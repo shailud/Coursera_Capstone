{
    "cells": [
        {
            "cell_type": "markdown",
            "metadata": {
                "collapsed": true
            },
            "source": "# Applied Data Science Capstone Project - Battle of Neighborhoods\n"
        },
        {
            "cell_type": "markdown",
            "metadata": {},
            "source": "## Opening a Yoga Studio in Toronto, Canada"
        },
        {
            "cell_type": "markdown",
            "metadata": {},
            "source": "### Introduction and Business Problem"
        },
        {
            "cell_type": "markdown",
            "metadata": {},
            "source": "Toronto is the most populous city of Canda and is recognized as one of the most multicultural and cosmopolitan cities in the world. The current metro area population of Toronto in 2020 is around 6 million and trend is getting stronger with many people moving to Toronto because of immigration policies and opportunities.\n\nWith recent pandemic, there is increased awareness and focus on individual health. It is not just about physical health but overall wellbeing including mental health. Regular Yoga practice provides overall wellness and Yoga Studio is the best way to connect yoga teachers and students.\n\nThis increased awareness about Yoga makes a business case for opening a Yoga Studio. However, Yoga Studio has become so popular that such studios are everywhere. Starting a new Yoga Studio is great opportunity, however we need to find a suitable location for long term sustainability of the business. This project explores best locations to open a new Yoga Studio in Toronto, Canada.\n\nBusiness Problem:\nTaking care of physical and mental health is a big part of the healthy lifestyle, however, due to heavy competition, the location of the Yoga Studio can make or break the business. The purpose of the project is to explore the most suitable neighborhood for to open a new Yoga Studio in Toronto, Canada. The project plans to use data science tools, methodology and machine learning algorithms to recommend most appropriate neighborhoods for opening a new Yoga Studio.\n"
        },
        {
            "cell_type": "markdown",
            "metadata": {},
            "source": "### Data Sources"
        },
        {
            "cell_type": "markdown",
            "metadata": {},
            "source": "To perform my analysis, I need geographical location data for Toronto as well as Yoga Studio data in Houston\n\n1. List of Canada neighborhoods and postal code\n   \n   Data Source: : https://en.wikipedia.org/wiki/List_of_postal_codes_of_Canada:_M\n   \n   Description: Above page has list of the names of the different neighbourhoods and postal code of Canada that will be scrapped from above Wikipedia page. I might need to append this data set with additional inforrmation about coordinates using the Nominatim module of the Python Geopy library.\n\n\n2. Yoga Studio in Toronto\n   \n   Data Source: Foursquare API\n   \n   Description: By using this API we will get all the venues in Toronto area. We can further filter data to get Yoga Studio only."
        },
        {
            "cell_type": "markdown",
            "metadata": {},
            "source": ""
        },
        {
            "cell_type": "markdown",
            "metadata": {},
            "source": "### Approach"
        },
        {
            "cell_type": "markdown",
            "metadata": {},
            "source": "Here is high level thought process. I understand that it might change as I move forward with this project.\n\n1. Collect Toronto location data from https://en.wikipedia.org/wiki/List_of_postal_codes_of_Canada:_M\n2. Get venue for neighourhood using using Foursquare API.\n3. Filter venue for Yoga Studio.\n4. Use K-Means clustering to find the best value of K and visualize neighbouhoods with number of Yoga Studios.\n5. Determine best place for Yoga Studio by comparing the neighborhoods.\n6. Draw inference and conclusion from the result."
        }
    ],
    "metadata": {
        "kernelspec": {
            "display_name": "Python 3.7",
            "language": "python",
            "name": "python3"
        },
        "language_info": {
            "codemirror_mode": {
                "name": "ipython",
                "version": 3
            },
            "file_extension": ".py",
            "mimetype": "text/x-python",
            "name": "python",
            "nbconvert_exporter": "python",
            "pygments_lexer": "ipython3",
            "version": "3.7.9"
        }
    },
    "nbformat": 4,
    "nbformat_minor": 1
}