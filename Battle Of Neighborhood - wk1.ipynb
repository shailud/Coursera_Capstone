{
    "cells": [
        {
            "cell_type": "markdown",
            "metadata": {
                "collapsed": true
            },
            "source": "# Applied Data Science Capstone Project - Battle of Neighborhoods\n"
        },
        {
            "cell_type": "markdown",
            "metadata": {},
            "source": "## Opening a Indian restaurant in Houston, TX"
        },
        {
            "cell_type": "markdown",
            "metadata": {},
            "source": "### Introduction and Business Problem"
        },
        {
            "cell_type": "markdown",
            "metadata": {},
            "source": "Houston is the fourth most populous city in United States and most populous in southern state of Texas with an estimated population of 7 million per 2019 data. With a population of 200,000 Indian-Americans, Houston is emerging as a new hub for the Indian community and trend is getting stronger with many folks from east and west coast moving to state of Texas.\n\nIncreasing Indian population makes a business case for opening a restaurant serving Indian dishes.  However, Indian food has become so popular that such restaurant are everywhere. Starting a new restaurant is great opportunity, however we need to find a suitable location for long term sustainability of the business. This project explores best locations to open a new authentic Indian restaurant in Houston, Texas"
        },
        {
            "cell_type": "markdown",
            "metadata": {},
            "source": ""
        },
        {
            "cell_type": "markdown",
            "metadata": {},
            "source": "### Data Sources"
        },
        {
            "cell_type": "markdown",
            "metadata": {},
            "source": "To perform my analysis, I need geographical location data for Houston as well as Indian restaurant data in Houston\n\n1. List of Houston neighborhoods \n   \n   Data Source: https://en.wikipedia.org/wiki/List_of_Houston_neighborhoods\n   \n   Description: Above page has list of the names of the different neighbourhoods of Houston that will be scrapped from above Wikipedia    page. I might need to append this data set with additional inforrmation about coordinates using the Nominatim module of the Python      Geopy library.\n\n\n2. Indian restaurants in Houston city\n   \n   Data Source: Foursquare API\n   \n   Description: By using this API we will get all the venues in the Houston area. We can further filter data to get Indian restaurants only."
        },
        {
            "cell_type": "markdown",
            "metadata": {},
            "source": ""
        },
        {
            "cell_type": "markdown",
            "metadata": {},
            "source": "### Approach"
        },
        {
            "cell_type": "markdown",
            "metadata": {},
            "source": "Here is high level thought process. I understand that it might change as I move forward with this project.\n\n1. Collect houston location data from https://en.wikipedia.org/wiki/List_of_Houston_neighborhoods\n2. Get venue for neighourhood using using Foursquare API.\n3. Filter venue for Indian Restaurants.\n\n4. Use K-Means clustering to find the best value of K and visualize neighbouhoods with number of Indian restaurant\n5. Determine best place for restaurant by comparing the neighborhoods\n6. Draw inference and conclusion from the result "
        },
        {
            "cell_type": "code",
            "execution_count": null,
            "metadata": {},
            "outputs": [],
            "source": ""
        }
    ],
    "metadata": {
        "kernelspec": {
            "display_name": "Python 3.7",
            "language": "python",
            "name": "python3"
        },
        "language_info": {
            "codemirror_mode": {
                "name": "ipython",
                "version": 3
            },
            "file_extension": ".py",
            "mimetype": "text/x-python",
            "name": "python",
            "nbconvert_exporter": "python",
            "pygments_lexer": "ipython3",
            "version": "3.7.9"
        }
    },
    "nbformat": 4,
    "nbformat_minor": 1
}