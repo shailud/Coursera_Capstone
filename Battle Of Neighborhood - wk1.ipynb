{
    "cells": [
        {
            "cell_type": "markdown",
            "metadata": {
                "collapsed": true
            },
            "source": "# Applied Data Science Capstone Project - Battle of Neighborhoods\n"
        },
        {
            "cell_type": "markdown",
            "metadata": {},
            "source": "## Opening a Indian restaurant in Houston, TX"
        },
        {
            "cell_type": "markdown",
            "metadata": {},
            "source": "### Introduction and Business Problem"
        },
        {
            "attachments": {},
            "cell_type": "markdown",
            "metadata": {},
            "source": "Houston is the fourth most populous city in United States and most populous in southern state of Texas with an estimated population of 7 million per 2019 data. With a population of 200,000 Indian-Americans, Houston is emerging as a new hub for the Indian community and trend is getting stronger with many folks from east and west coast moving to state of Texas.\n\nIncreasing Indian population makes a business case for opening a restaurant serving Indian dishes.  However, Indian food has become so popular that such restaurant are everywhere. Starting a new restaurant is great opportunity, however we need to find a suitable location for long term sustainability of the business. This project explores best locations to open a new authentic Indian restaurant in Houston, Texas"
        },
        {
            "cell_type": "code",
            "execution_count": null,
            "metadata": {},
            "outputs": [],
            "source": ""
        }
    ],
    "metadata": {
        "kernelspec": {
            "display_name": "Python 3.7",
            "language": "python",
            "name": "python3"
        },
        "language_info": {
            "codemirror_mode": {
                "name": "ipython",
                "version": 3
            },
            "file_extension": ".py",
            "mimetype": "text/x-python",
            "name": "python",
            "nbconvert_exporter": "python",
            "pygments_lexer": "ipython3",
            "version": "3.7.9"
        }
    },
    "nbformat": 4,
    "nbformat_minor": 1
}